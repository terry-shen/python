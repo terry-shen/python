{
 "cells": [
  {
   "cell_type": "code",
   "execution_count": 1,
   "metadata": {
    "collapsed": true
   },
   "outputs": [],
   "source": [
    "import tensorflow as tf"
   ]
  },
  {
   "cell_type": "code",
   "execution_count": 2,
   "metadata": {
    "collapsed": true
   },
   "outputs": [],
   "source": [
    "import numpy as np"
   ]
  },
  {
   "cell_type": "code",
   "execution_count": 12,
   "metadata": {
    "collapsed": false
   },
   "outputs": [
    {
     "name": "stdout",
     "output_type": "stream",
     "text": [
      "0 [6.644293, 4.065655]\n",
      "20 [2.0930333, -0.8861842]\n",
      "40 [1.2609987, -0.43273598]\n",
      "60 [0.77631557, -0.1685871]\n",
      "80 [0.4939735, -0.014712706]\n",
      "100 [0.32950103, 0.0749236]\n",
      "120 [0.23369104, 0.12713936]\n",
      "140 [0.17787893, 0.15755655]\n",
      "160 [0.14536673, 0.17527547]\n",
      "180 [0.12642746, 0.18559723]\n",
      "200 [0.11539476, 0.19160996]\n",
      "220 [0.10896789, 0.19511257]\n",
      "240 [0.10522406, 0.19715293]\n",
      "260 [0.10304316, 0.1983415]\n",
      "280 [0.10177274, 0.19903387]\n",
      "300 [0.101032674, 0.1994372]\n",
      "320 [0.10060156, 0.19967216]\n",
      "340 [0.10035043, 0.19980903]\n",
      "360 [0.100204125, 0.19988875]\n",
      "380 [0.10011891, 0.1999352]\n",
      "400 [0.10006927, 0.19996224]\n",
      "420 [0.100040354, 0.19997801]\n",
      "440 [0.10002351, 0.19998719]\n",
      "460 [0.100013696, 0.19999254]\n",
      "480 [0.100007996, 0.19999564]\n",
      "500 [0.10000468, 0.19999745]\n",
      "520 [0.100002736, 0.19999851]\n",
      "540 [0.1000016, 0.19999912]\n",
      "560 [0.100000955, 0.19999948]\n",
      "580 [0.10000055, 0.1999997]\n",
      "600 [0.10000034, 0.19999981]\n",
      "620 [0.1000002, 0.19999988]\n",
      "640 [0.1000002, 0.19999988]\n",
      "660 [0.1000002, 0.19999988]\n",
      "680 [0.1000002, 0.19999988]\n",
      "700 [0.1000002, 0.19999988]\n",
      "720 [0.1000002, 0.19999988]\n",
      "740 [0.1000002, 0.19999988]\n",
      "760 [0.1000002, 0.19999988]\n",
      "780 [0.1000002, 0.19999988]\n",
      "800 [0.1000002, 0.19999988]\n"
     ]
    }
   ],
   "source": [
    "#使用numpy生成100个随机点\n",
    "x_data = np.random.rand(100)\n",
    "y_data = x_data*0.1 + 0.2\n",
    "\n",
    "#构造一个线性模型\n",
    "b = tf.Variable(10.)\n",
    "k = tf.Variable(10.)\n",
    "\n",
    "y = k*x_data + b\n",
    "\n",
    "#定义一个二次代价函数：机器学习和深度学习中的基本概念\n",
    "#y_data-y：真实值减去预测值得到一个误差；square为求平方；reduce_mean为平均值\n",
    "loss = tf.reduce_mean(tf.square(y_data-y))\n",
    "\n",
    "#定义一个梯度下降法来进行训练的优化器\n",
    "optimizer = tf.train.GradientDescentOptimizer(0.2)\n",
    "\n",
    "#定义一个最小化代价函数\n",
    "train = optimizer.minimize(loss)\n",
    "\n",
    "init = tf.global_variables_initializer()\n",
    "\n",
    "with tf.Session() as sess:\n",
    "    sess.run(init)\n",
    "    for step in range(801):\n",
    "        sess.run(train)\n",
    "        if step%20 == 0:\n",
    "            print(step,sess.run([k,b]))\n"
   ]
  },
  {
   "cell_type": "code",
   "execution_count": null,
   "metadata": {
    "collapsed": true
   },
   "outputs": [],
   "source": []
  }
 ],
 "metadata": {
  "kernelspec": {
   "display_name": "Python [default]",
   "language": "python",
   "name": "python3"
  },
  "language_info": {
   "codemirror_mode": {
    "name": "ipython",
    "version": 3
   },
   "file_extension": ".py",
   "mimetype": "text/x-python",
   "name": "python",
   "nbconvert_exporter": "python",
   "pygments_lexer": "ipython3",
   "version": "3.5.2"
  }
 },
 "nbformat": 4,
 "nbformat_minor": 1
}
